{
 "cells": [
  {
   "cell_type": "code",
   "execution_count": 4,
   "id": "d953715d-8d80-45b2-8018-f3ee14c37d42",
   "metadata": {
    "tags": []
   },
   "outputs": [
    {
     "name": "stdout",
     "output_type": "stream",
     "text": [
      "Requirement already satisfied: pytube in /Users/jsubramanian/miniforge3/envs/graphgpt/lib/python3.10/site-packages (15.0.0)\n",
      "\u001b[33mDEPRECATION: celery 5.0.5 has a non-standard dependency specifier pytz>dev. pip 24.0 will enforce this behaviour change. A possible replacement is to upgrade to a newer version of celery or contact the author to suggest that they release a version with a conforming dependency specifiers. Discussion can be found at https://github.com/pypa/pip/issues/12063\u001b[0m\u001b[33m\n",
      "\u001b[0m"
     ]
    }
   ],
   "source": [
    "!pip install pytube\n",
    "import sys\n",
    "sys.path.append(\"/Users/jsubramanian/MyCode/GraphGPT/components/NaLLM/api/src\")\n",
    "import json\n",
    "directory_path = \"/Users/jsubramanian/MyCode/GraphGPT\"\n",
    "sys.path.append(directory_path)\n",
    "import ast\n",
    "\n",
    "from helpers  import download_video_and_audio\n",
    "\n",
    "#video_url = 'https://youtu.be/2lAe1cqCOXo'\n",
    "video_url = 'https://www.youtube.com/watch?v=95ZtpMVHIQY'\n",
    "#video_url = 'https://www.youtube.com/watch?v=r3_41Whvr1I'  # Warren Buffet\n",
    "#video_url = 'https://www.ycombinator.com/library/L5-why-this-is-the-perfect-time-to-start-a-startup-lightcone-podcast-live?carousel=Lightcone%20Podcast'\n",
    "url = 'https://www.youtube.com/watch?v=LdUNaXODE7s'\n",
    "#url = 'https://www.youtube.com/watch?v=qE5BWFRETdk'\n",
    "\n"
   ]
  },
  {
   "cell_type": "code",
   "execution_count": 7,
   "id": "e38b71a2-80bb-434c-b9e7-73936496b3a7",
   "metadata": {
    "tags": []
   },
   "outputs": [],
   "source": [
    "def download_video_and_audio(url):\n",
    "    try:\n",
    "        # Create the data/downloads directory if it doesn't exist\n",
    "        os.makedirs('data/downloads', exist_ok=True)\n",
    "\n",
    "        # Extract video ID from URL\n",
    "        video_id = YouTube(url).video_id\n",
    "\n",
    "        # Download best MP4 video stream\n",
    "        yt = YouTube(url)\n",
    "        video_stream = (\n",
    "            yt.streams\n",
    "            .filter(progressive=True, file_extension='mp4')\n",
    "            .order_by('resolution')\n",
    "            .desc()\n",
    "            .first()\n",
    "        )\n",
    "        video_file_name = f'{video_id}_video.mp4'\n",
    "        video_file_path = os.path.join('data', 'youtube', video_file_name)\n",
    "        #import pdb; pdb.set_trace();\n",
    "        video_stream.download(output_path='data/youtube', filename=video_file_name)\n",
    "        print(f\"Downloaded MP4 video: {video_file_path}\")\n",
    "\n",
    "        # Download audio and convert to MP3\n",
    "        audio_stream = yt.streams.filter(only_audio=True).first()\n",
    "        audio_file_name = f'{video_id}_audio'\n",
    "        audio_file_path = audio_stream.download(output_path='data/youtube', filename=audio_file_name)\n",
    "        \n",
    "        # Convert to MP3 using pydub\n",
    "        audio = AudioSegment.from_file(audio_file_path)\n",
    "        mp3_file_name = f'{video_id}_audio.mp3'\n",
    "        mp3_file_path = os.path.join('data', 'youtube', mp3_file_name)\n",
    "        audio.export(mp3_file_path, format='mp3')\n",
    "        print(f\"Downloaded and converted to MP3: {mp3_file_path}\")\n",
    "\n",
    "        # Optionally, remove the original audio file (not in mp3 format)\n",
    "        os.remove(audio_file_path)\n",
    "\n",
    "        return video_file_path, mp3_file_path\n",
    "\n",
    "    except Exception as e:\n",
    "        print(f\"An error occurred: {str(e)}\")\n",
    "        return None, None\n",
    "\n"
   ]
  },
  {
   "cell_type": "code",
   "execution_count": 6,
   "id": "e7215662-ba91-405d-9070-ced6127bd01b",
   "metadata": {},
   "outputs": [
    {
     "name": "stdout",
     "output_type": "stream",
     "text": [
      "An error occurred: HTTP Error 400: Bad Request\n",
      "Video file location: None\n",
      "Audio MP3 file location: None\n"
     ]
    }
   ],
   "source": [
    "video_file_path, mp3_file_path = download_video_and_audio(video_url)\n",
    "print(f\"Video file location: {video_file_path}\")\n",
    "print(f\"Audio MP3 file location: {mp3_file_path}\")\n"
   ]
  },
  {
   "cell_type": "code",
   "execution_count": null,
   "id": "0883710e-86a2-40d4-a2a4-4507920b2f86",
   "metadata": {},
   "outputs": [],
   "source": []
  }
 ],
 "metadata": {
  "kernelspec": {
   "display_name": "Python [conda env:graphgpt] *",
   "language": "python",
   "name": "conda-env-graphgpt-py"
  },
  "language_info": {
   "codemirror_mode": {
    "name": "ipython",
    "version": 3
   },
   "file_extension": ".py",
   "mimetype": "text/x-python",
   "name": "python",
   "nbconvert_exporter": "python",
   "pygments_lexer": "ipython3",
   "version": "3.10.13"
  }
 },
 "nbformat": 4,
 "nbformat_minor": 5
}
